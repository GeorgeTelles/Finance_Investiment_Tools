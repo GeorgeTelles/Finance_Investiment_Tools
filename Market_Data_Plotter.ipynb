{
  "nbformat": 4,
  "nbformat_minor": 0,
  "metadata": {
    "colab": {
      "provenance": [],
      "authorship_tag": "ABX9TyOiRRsWkpTuEOI8Fe35qNQa",
      "include_colab_link": true
    },
    "kernelspec": {
      "name": "python3",
      "display_name": "Python 3"
    },
    "language_info": {
      "name": "python"
    }
  },
  "cells": [
    {
      "cell_type": "markdown",
      "metadata": {
        "id": "view-in-github",
        "colab_type": "text"
      },
      "source": [
        "<a href=\"https://colab.research.google.com/github/GeorgeTelles/Finance_Investiment_Tools/blob/main/Market_Data_Plotter.ipynb\" target=\"_parent\"><img src=\"https://colab.research.google.com/assets/colab-badge.svg\" alt=\"Open In Colab\"/></a>"
      ]
    },
    {
      "cell_type": "markdown",
      "source": [
        "<div>\n",
        "  <img src=\"https://raw.githubusercontent.com/GeorgeTelles/georgetelles/f69531ec6b293b5148563588a764c010015d315e/logo_clara.png\" alt=\"logo clara\" width=\"300\" style=\"display: inline-block; vertical-align: top; margin-right: 10px;\">\n",
        "  <img src=\"https://raw.githubusercontent.com/GeorgeTelles/georgetelles/f69531ec6b293b5148563588a764c010015d315e/logo_dark.png\" alt=\"logo dark\" width=\"300\" style=\"display: inline-block; vertical-align: top;\">\n",
        "</div>"
      ],
      "metadata": {
        "id": "xi1Xm9mZStx5"
      }
    },
    {
      "cell_type": "markdown",
      "source": [
        "# Market Data Plotter"
      ],
      "metadata": {
        "id": "DaU7I2YJSu6A"
      }
    },
    {
      "cell_type": "markdown",
      "source": [
        "\n",
        "\n",
        "## Description\n",
        "\n",
        "The `Market Data Plotter` project focuses on downloading and visualizing historical market data for the IBOV (B3 Index) using Python libraries. The project leverages `yfinance` to fetch market data and `matplotlib` to create visualizations.\n",
        "\n",
        "## Features\n",
        "\n",
        "- **Data Retrieval**: Fetches historical market data for the IBOV index (B3 Index) using the `yfinance` library.\n",
        "- **Data Visualization**: Plots the closing prices of the IBOV index on a time-series chart using `matplotlib`.\n",
        "\n",
        "## Code\n",
        "\n",
        "The main script performs the following actions:\n",
        "\n",
        "1. **Import Libraries**: Imports necessary libraries for data retrieval and visualization.\n",
        "2. **Download Market Data**: Uses `yfinance` to download historical data for the IBOV index.\n",
        "3. **Plot Data**: Plots the closing prices of the IBOV index on a time-series graph.\n"
      ],
      "metadata": {
        "id": "5ok2k7v8SvOY"
      }
    },
    {
      "cell_type": "markdown",
      "source": [
        "#Importando as Bibliotecas"
      ],
      "metadata": {
        "id": "jNjx8hc0fgQW"
      }
    },
    {
      "cell_type": "code",
      "execution_count": null,
      "metadata": {
        "id": "-8Lvdj6Ge1wX"
      },
      "outputs": [],
      "source": [
        "\n",
        "import matplotlib.pyplot as plt\n",
        "import yfinance as yf"
      ]
    },
    {
      "cell_type": "markdown",
      "source": [
        "#Obtendo os dados do mercado"
      ],
      "metadata": {
        "id": "BJrN4qi0fiVN"
      }
    },
    {
      "cell_type": "code",
      "source": [
        "ibov = yf.download('^BVSP')"
      ],
      "metadata": {
        "id": "65X7wfSffAy9"
      },
      "execution_count": null,
      "outputs": []
    },
    {
      "cell_type": "markdown",
      "source": [
        "# Plotanto Grafico"
      ],
      "metadata": {
        "id": "XXMbp9Pufk5V"
      }
    },
    {
      "cell_type": "code",
      "source": [
        "ibov[\"Close\"].plot(figsize=(22,8))\n",
        "\n",
        "plt.show()"
      ],
      "metadata": {
        "id": "TIxzh4CHfmmW"
      },
      "execution_count": null,
      "outputs": []
    }
  ]
}