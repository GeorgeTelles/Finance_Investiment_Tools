{
  "nbformat": 4,
  "nbformat_minor": 0,
  "metadata": {
    "colab": {
      "provenance": [],
      "authorship_tag": "ABX9TyMdc/GDswF3Evcrskk1W2oT",
      "include_colab_link": true
    },
    "kernelspec": {
      "name": "python3",
      "display_name": "Python 3"
    },
    "language_info": {
      "name": "python"
    }
  },
  "cells": [
    {
      "cell_type": "markdown",
      "metadata": {
        "id": "view-in-github",
        "colab_type": "text"
      },
      "source": [
        "<a href=\"https://colab.research.google.com/github/GeorgeTelles/Finance_Investiment_Tools/blob/main/Random_Portfolio.ipynb\" target=\"_parent\"><img src=\"https://colab.research.google.com/assets/colab-badge.svg\" alt=\"Open In Colab\"/></a>"
      ]
    },
    {
      "cell_type": "markdown",
      "source": [
        "<div>\n",
        "  <img src=\"https://raw.githubusercontent.com/GeorgeTelles/georgetelles/f69531ec6b293b5148563588a764c010015d315e/logo_clara.png\" alt=\"logo clara\" width=\"300\" style=\"display: inline-block; vertical-align: top; margin-right: 10px;\">\n",
        "  <img src=\"https://raw.githubusercontent.com/GeorgeTelles/georgetelles/f69531ec6b293b5148563588a764c010015d315e/logo_dark.png\" alt=\"logo dark\" width=\"300\" style=\"display: inline-block; vertical-align: top;\">\n",
        "</div>"
      ],
      "metadata": {
        "id": "pXxnni5jVyY6"
      }
    },
    {
      "cell_type": "markdown",
      "source": [
        "# Random Portfolio Performance Simulator"
      ],
      "metadata": {
        "id": "0BGlw2GwW2KZ"
      }
    },
    {
      "cell_type": "markdown",
      "source": [
        "\n",
        "\n",
        "## Description\n",
        "\n",
        "The **Random Portfolio Performance Simulator** is a project designed to analyze the performance of investment portfolios formed randomly. The aim is to assess whether random selection of stocks can generate profit and to understand the returns of a portfolio composed of a subset of randomly chosen assets.\n",
        "\n",
        "## Functionality\n",
        "\n",
        "- **Random Asset Selection**: The algorithm randomly selects 15 stocks from a list of available assets on B3 or from the IBOV Index (Ibovespa).\n",
        "- **Performance Analysis**: Retrieves historical data of the selected stocks for the past 12 months and calculates the performance of each stock.\n",
        "- **Portfolio Return Calculation**: Computes the average return of the portfolio composed of the selected stocks.\n",
        "- **Results Generation**: Creates a DataFrame with the performance of each stock and the consolidated portfolio return.\n",
        "\n",
        "## Detailed Functionality\n",
        "\n",
        "1. **Data Import**: Uses the `tradingcomdados` library to obtain a list of all assets on B3 or the IBOV Index.\n",
        "2. **Stock Selection**: Randomly chooses 15 stocks from the available list.\n",
        "3. **Historical Data Retrieval**: Uses `yfinance` to download the adjusted closing historical data for the selected stocks.\n",
        "4. **Performance Calculation**: Calculates the percentage return of each stock and the return of the portfolio formed by these stocks.\n",
        "5. **Results Consolidation**: Creates a DataFrame with the performance of each stock and the consolidated return of the portfolio.\n",
        "\n",
        "## Objective\n",
        "\n",
        "The main objective of the project is to demonstrate whether random stock selection can result in a profitable portfolio. Through simulations, the project provides insights into the viability and performance of randomly formed portfolios.\n",
        "\n",
        "## Usage\n",
        "\n",
        "1. **Install Dependencies**: Ensure that the necessary libraries are installed.\n",
        "2. **Run the Script**: Execute the script to generate performance analysis based on randomly selected stocks.\n",
        "3. **Analyze Results**: Review the results to evaluate the returns of the individual stocks and the consolidated portfolio.\n",
        "\n",
        "## Contributing\n",
        "\n",
        "Contributions are welcome! If you have suggestions for improvements or wish to add new features, feel free to open an issue or submit a pull request.\n",
        "\n",
        "## License\n",
        "\n",
        "This project is licensed under the [MIT License](LICENSE).\n"
      ],
      "metadata": {
        "id": "CYbbWlWRWvZx"
      }
    },
    {
      "cell_type": "markdown",
      "source": [
        "# Simulador de Carteira Aleatória"
      ],
      "metadata": {
        "id": "revDx5p7WyfC"
      }
    },
    {
      "cell_type": "markdown",
      "source": [
        "## Descrição\n",
        "\n",
        "O **Simulador de Rentabilidade de Carteira Aleatória** é um projeto desenvolvido para analisar o desempenho de carteiras de investimentos formadas aleatoriamente. O objetivo é avaliar se a escolha aleatória de ações pode gerar lucro e entender a rentabilidade de uma carteira composta por um subconjunto de ativos selecionados aleatoriamente.\n",
        "\n",
        "## Funcionalidade\n",
        "\n",
        "- **Seleção Aleatória de Ativos**: O algoritmo seleciona aleatoriamente 15 ações de uma lista de ativos disponíveis na B3 ou do Índice IBOV (Ibovespa).\n",
        "- **Análise de Rentabilidade**: Obtém os dados históricos das ações selecionadas para os últimos 12 meses e calcula a rentabilidade de cada ação.\n",
        "- **Cálculo da Rentabilidade da Carteira**: Calcula a rentabilidade média da carteira composta pelas ações selecionadas.\n",
        "- **Geração de Resultados**: Cria um DataFrame com a rentabilidade de cada ação e da carteira consolidada.\n",
        "\n",
        "## Funcionalidade Detalhada\n",
        "\n",
        "1. **Importação de Dados**: Utiliza a biblioteca `tradingcomdados` para obter uma lista de todos os ativos da B3 ou do Índice IBOV.\n",
        "2. **Seleção de Ações**: Escolhe aleatoriamente 15 ações da lista disponível.\n",
        "3. **Obtenção de Dados Históricos**: Usa `yfinance` para baixar os dados históricos ajustados de fechamento das ações selecionadas.\n",
        "4. **Cálculo de Rentabilidade**: Calcula a rentabilidade percentual de cada ação e da carteira formada por essas ações.\n",
        "5. **Consolidação de Resultados**: Cria um DataFrame com a rentabilidade de cada ação e a rentabilidade consolidada da carteira.\n",
        "\n",
        "## Objetivo\n",
        "\n",
        "O principal objetivo do projeto é demonstrar se a escolha aleatória de ações pode resultar em uma carteira lucrativa. Através das simulações, o projeto oferece insights sobre a viabilidade e o desempenho de carteiras compostas de forma aleatória.\n",
        "\n",
        "## Uso\n",
        "\n",
        "1. **Instalação de Dependências**: Certifique-se de que as bibliotecas necessárias estão instaladas.\n",
        "2. **Execução do Script**: Execute o script para gerar a análise de rentabilidade com base nas ações selecionadas aleatoriamente.\n",
        "3. **Análise dos Resultados**: Revise os resultados para avaliar a rentabilidade das ações e da carteira consolidada.\n",
        "\n",
        "## Contribuindo\n",
        "\n",
        "Contribuições são bem-vindas! Se você tem sugestões de melhorias ou deseja adicionar novas funcionalidades, sinta-se à vontade para abrir uma issue ou enviar um pull request.\n",
        "\n",
        "## Licença\n",
        "\n",
        "Este projeto está licenciado sob a [Licença MIT](LICENSE).\n"
      ],
      "metadata": {
        "id": "ehHnLEdOWeKi"
      }
    },
    {
      "cell_type": "markdown",
      "source": [
        "#1. Instalação e importação de Bibliotecas"
      ],
      "metadata": {
        "id": "FAdCyAclWiFQ"
      }
    },
    {
      "cell_type": "code",
      "source": [
        "!pip install tradingcomdados"
      ],
      "metadata": {
        "id": "sYksodvg9ZOE"
      },
      "execution_count": null,
      "outputs": []
    },
    {
      "cell_type": "code",
      "execution_count": null,
      "metadata": {
        "id": "2Y2rzogZ9O2c"
      },
      "outputs": [],
      "source": [
        "import pandas as pd\n",
        "import yfinance as yf\n",
        "import random\n",
        "from tradingcomdados import alternative_data as ad"
      ]
    },
    {
      "cell_type": "markdown",
      "source": [
        "**Lista com Todos os ativos da B3**"
      ],
      "metadata": {
        "id": "vbyqXmy49qNb"
      }
    },
    {
      "cell_type": "code",
      "source": [
        "ativos = ad.get_sectors(\"B3\").TICKER + \".SA\"\n",
        "lista_ativos = ativos.to_list()"
      ],
      "metadata": {
        "id": "ndf0_VIR9gPU"
      },
      "execution_count": null,
      "outputs": []
    },
    {
      "cell_type": "markdown",
      "source": [
        "**Lista com ativos que compõe o Indice IBOV (Ibovespa)**"
      ],
      "metadata": {
        "id": "8x_B_1Y5V8YB"
      }
    },
    {
      "cell_type": "code",
      "source": [
        "lista_ativos = [codigo + '.SA' for codigo in ad.index_composition('ibov', mode = 'list')]"
      ],
      "metadata": {
        "id": "VQaDeq__9frb"
      },
      "execution_count": null,
      "outputs": []
    },
    {
      "cell_type": "code",
      "source": [
        "def calcular_rentabilidade():\n",
        "    # Selecionar aleatoriamente 15 empresas\n",
        "    empresas_selecionadas = random.sample(lista_ativos, 15)\n",
        "\n",
        "    # Obter os dados históricos de cada empresa para os últimos 12 meses\n",
        "    dados_historicos = yf.download(empresas_selecionadas, period='1y')['Adj Close']\n",
        "\n",
        "    # Calcular a rentabilidade de cada empresa nos últimos 12 meses\n",
        "    rentabilidade_por_empresa = (dados_historicos.pct_change(fill_method=None) + 1).prod() - 1\n",
        "\n",
        "    # Calcular a rentabilidade da carteira consolidada\n",
        "    rentabilidade_carteira = rentabilidade_por_empresa.mean()\n",
        "\n",
        "    # Criar um DataFrame com os resultados\n",
        "    resultados = pd.DataFrame({\n",
        "        'Empresa': rentabilidade_por_empresa.index,\n",
        "        'Rentabilidade (%)': rentabilidade_por_empresa * 100\n",
        "    })\n",
        "\n",
        "    # Adicionar a rentabilidade da carteira como uma linha adicional usando pd.concat\n",
        "    rentabilidade_carteira_df = pd.DataFrame({\n",
        "        'Empresa': ['Carteira Consolidada'],\n",
        "        'Rentabilidade (%)': [rentabilidade_carteira * 100]\n",
        "    })\n",
        "\n",
        "    # Concatenar os DataFrames\n",
        "    resultados = pd.concat([resultados, rentabilidade_carteira_df], ignore_index=True)\n",
        "\n",
        "    return resultados"
      ],
      "metadata": {
        "id": "LX2jPbr3-_hc"
      },
      "execution_count": null,
      "outputs": []
    },
    {
      "cell_type": "code",
      "source": [
        "calcular_rentabilidade()\n"
      ],
      "metadata": {
        "id": "xAdRDWcU-GuD"
      },
      "execution_count": null,
      "outputs": []
    }
  ]
}